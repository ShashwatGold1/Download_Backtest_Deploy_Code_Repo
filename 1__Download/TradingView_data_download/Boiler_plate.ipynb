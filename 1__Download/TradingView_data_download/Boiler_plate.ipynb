{
 "cells": [
  {
   "cell_type": "code",
   "execution_count": null,
   "id": "2afa103f",
   "metadata": {},
   "outputs": [],
   "source": [
    "# !pip install --upgrade --no-cache-dir git+https://github.com/rongardF/tvdatafeed.git"
   ]
  },
  {
   "cell_type": "code",
   "execution_count": null,
   "id": "d9e251dd",
   "metadata": {},
   "outputs": [],
   "source": [
    "from tvDatafeed import TvDatafeed, Interval\n",
    "\n",
    "username = \"truthfulOwl34362\"\n",
    "password = \"asdfasdf12#$jkl;\"\n",
    "\n",
    "tv = TvDatafeed(username=username, password=password)\n",
    "\n",
    "# Symbol: NIFTY_50, Exchange: NSE, Interval: 1 day, Bars: 500\n",
    "nifty_data = tv.get_hist(\n",
    "    symbol='NIFTY_50',\n",
    "    exchange='NSE', \n",
    "    interval=Interval.in_daily,\n",
    "    n_bars=1172\n",
    ")\n",
    "\n",
    "# Reset index and format data\n",
    "nifty_data.reset_index(inplace=True)\n",
    "nifty_data = nifty_data[['datetime', 'open', 'high', 'low', 'close', 'volume']]\n",
    "nifty_data.columns = ['Date', 'Open', 'High', 'Low', 'Close', 'Volume']\n",
    "nifty_data['Date'] = nifty_data['Date'].dt.strftime('%Y-%m-%d')\n",
    "\n",
    "# Round price values\n",
    "for col in ['Open', 'High', 'Low', 'Close']:\n",
    "    nifty_data[col] = nifty_data[col].round(2)\n",
    "\n",
    "# Save to CSV\n",
    "nifty_data.to_csv('nifty50_tradingview_data.csv', index=False)\n",
    "\n",
    "nifty_data\n"
   ]
  }
 ],
 "metadata": {
  "kernelspec": {
   "display_name": "Python 3",
   "language": "python",
   "name": "python3"
  },
  "language_info": {
   "name": "python",
   "version": "3.8.10"
  }
 },
 "nbformat": 4,
 "nbformat_minor": 5
}
