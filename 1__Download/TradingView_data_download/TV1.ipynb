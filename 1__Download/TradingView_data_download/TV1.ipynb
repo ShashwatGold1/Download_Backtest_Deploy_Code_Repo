{
 "cells": [
  {
   "cell_type": "code",
   "execution_count": 1,
   "id": "imports",
   "metadata": {},
   "outputs": [],
   "source": [
    "from tvDatafeed import TvDatafeed, Interval\n",
    "import pandas as pd\n",
    "import os\n",
    "import json\n",
    "import time"
   ]
  },
  {
   "cell_type": "code",
   "execution_count": 2,
   "id": "config",
   "metadata": {},
   "outputs": [],
   "source": [
    "# Configuration\n",
    "username = \"truthfulOwl34362\"\n",
    "password = \"asdfasdf12#$jkl;\"\n",
    "storage_folder = \"D:/Programming/Download_Backtest_Deploy_data/1__Download/TradingView_data_download/storage\"\n",
    "mapping_file = \"D:/Programming/Download_Backtest_Deploy_data/1__Download/TradingView_data_download/symbol_mappings.json\"\n",
    "\n",
    "# Load NIFTY 50 symbols\n",
    "nifty_data = pd.read_csv(\"D:/Programming/Download_Backtest_Deploy_data/1__Download/1__Download_data_ICICI_via_API/nifty_50_componants_data_from_tradingview.csv\")\n",
    "nifty_50 = nifty_data['Symbol'].values.tolist()\n",
    "\n",
    "# Create storage folder\n",
    "os.makedirs(storage_folder, exist_ok=True)"
   ]
  },
  {
   "cell_type": "code",
   "execution_count": 3,
   "metadata": {},
   "outputs": [],
   "source": [
    "nifty_50 = ['SHREECEM', 'IOC', 'GAIL', 'YESBANK']"
   ]
  },
  {
   "cell_type": "code",
   "execution_count": 4,
   "id": "symbol_manager",
   "metadata": {},
   "outputs": [],
   "source": [
    "# Symbol mapping management\n",
    "def load_symbol_mappings():\n",
    "    try:\n",
    "        with open(mapping_file, 'r') as f:\n",
    "            return json.load(f)\n",
    "    except FileNotFoundError:\n",
    "        return {}\n",
    "\n",
    "def save_symbol_mappings(mappings):\n",
    "    with open(mapping_file, 'w') as f:\n",
    "        json.dump(mappings, f, indent=2)"
   ]
  },
  {
   "cell_type": "code",
   "execution_count": 5,
   "id": "download_function",
   "metadata": {},
   "outputs": [],
   "source": [
    "def download_stock_data(symbol, exchange='NSE', n_bars=1174):\n",
    "    try:\n",
    "        tv = TvDatafeed(username=username, password=password)\n",
    "        data = tv.get_hist(symbol=symbol, exchange=exchange, interval=Interval.in_daily, n_bars=n_bars)\n",
    "        \n",
    "        if data is None or data.empty:\n",
    "            return None\n",
    "            \n",
    "        data.reset_index(inplace=True)\n",
    "        data = data[['datetime', 'open', 'high', 'low', 'close', 'volume']]\n",
    "        data.columns = ['Date', 'Open', 'High', 'Low', 'Close', 'Volume']\n",
    "        data['Date'] = data['Date']\n",
    "        \n",
    "        for col in ['Open', 'High', 'Low', 'Close']:\n",
    "            data[col] = data[col].round(2)\n",
    "            \n",
    "        return data\n",
    "    except:\n",
    "        return None"
   ]
  },
  {
   "cell_type": "code",
   "execution_count": 6,
   "id": "master_download",
   "metadata": {},
   "outputs": [
    {
     "name": "stdout",
     "output_type": "stream",
     "text": [
      "\n",
      "[1/4] Processing: SHREECEM\n"
     ]
    },
    {
     "name": "stderr",
     "output_type": "stream",
     "text": [
      "error while signin\n",
      "you are using nologin method, data you access may be limited\n"
     ]
    },
    {
     "name": "stdout",
     "output_type": "stream",
     "text": [
      "\n",
      "[2/4] Processing: IOC\n"
     ]
    },
    {
     "name": "stderr",
     "output_type": "stream",
     "text": [
      "ERROR:tvDatafeed.main:error while signin\n",
      "WARNING:tvDatafeed.main:you are using nologin method, data you access may be limited\n"
     ]
    },
    {
     "name": "stdout",
     "output_type": "stream",
     "text": [
      "\n",
      "[3/4] Processing: GAIL\n"
     ]
    },
    {
     "name": "stderr",
     "output_type": "stream",
     "text": [
      "ERROR:tvDatafeed.main:error while signin\n",
      "WARNING:tvDatafeed.main:you are using nologin method, data you access may be limited\n"
     ]
    },
    {
     "name": "stdout",
     "output_type": "stream",
     "text": [
      "\n",
      "[4/4] Processing: YESBANK\n"
     ]
    },
    {
     "name": "stderr",
     "output_type": "stream",
     "text": [
      "ERROR:tvDatafeed.main:error while signin\n",
      "WARNING:tvDatafeed.main:you are using nologin method, data you access may be limited\n"
     ]
    },
    {
     "name": "stdout",
     "output_type": "stream",
     "text": [
      "\n",
      "=== Summary ===\n",
      "Successful: 4/4\n",
      "Failed: []\n"
     ]
    }
   ],
   "source": [
    "# Master download controller\n",
    "def master_download():\n",
    "    mappings = load_symbol_mappings()\n",
    "    successful = []\n",
    "    failed = []\n",
    "    \n",
    "    for i, original_symbol in enumerate(nifty_50, 1):\n",
    "        print(f\"\\n[{i}/{len(nifty_50)}] Processing: {original_symbol}\")\n",
    "        \n",
    "        # Check if file already exists\n",
    "        filename = f\"{storage_folder}/{original_symbol}_historical_data.csv\"\n",
    "        if os.path.exists(filename):\n",
    "            print(f\"Already exists: {original_symbol}\")\n",
    "            successful.append(original_symbol)\n",
    "            continue\n",
    "            \n",
    "        success = False\n",
    "        \n",
    "        # Try original symbol first\n",
    "        data = download_stock_data(original_symbol)\n",
    "        \n",
    "        if data is not None:\n",
    "            data.to_csv(filename, index=False)\n",
    "            successful.append(original_symbol)\n",
    "            success = True\n",
    "        else:\n",
    "            # Try alternatives from JSON\n",
    "            if original_symbol in mappings and isinstance(mappings[original_symbol], list):\n",
    "                for alt_symbol in mappings[original_symbol]:\n",
    "                    data = download_stock_data(alt_symbol)\n",
    "                    if data is not None:\n",
    "                        data.to_csv(filename, index=False)\n",
    "                        mappings[original_symbol] = alt_symbol\n",
    "                        save_symbol_mappings(mappings)\n",
    "                        successful.append(original_symbol)\n",
    "                        success = True\n",
    "                        break\n",
    "            \n",
    "            # User input for failed symbols\n",
    "            if not success:\n",
    "                while True:\n",
    "                    user_input = input(f\"\\nSymbol '{original_symbol}' failed. Options:\\n1. Enter correct symbol\\n2. Skip this symbol\\nChoice (1/2): \")\n",
    "                    \n",
    "                    if user_input == '2':\n",
    "                        failed.append(original_symbol)\n",
    "                        break\n",
    "                    elif user_input == '1':\n",
    "                        new_symbol = input(f\"Enter correct symbol for {original_symbol}: \").strip().upper()\n",
    "                        if new_symbol:\n",
    "                            data = download_stock_data(new_symbol)\n",
    "                            if data is not None:\n",
    "                                data.to_csv(filename, index=False)\n",
    "                                mappings[original_symbol] = new_symbol\n",
    "                                save_symbol_mappings(mappings)\n",
    "                                successful.append(original_symbol)\n",
    "                                print(f\"Success with: {new_symbol}\")\n",
    "                                break\n",
    "                            else:\n",
    "                                print(f\"Failed with: {new_symbol}\")\n",
    "        \n",
    "        time.sleep(1)\n",
    "    \n",
    "    print(f\"\\n=== Summary ===\")\n",
    "    print(f\"Successful: {len(successful)}/{len(nifty_50)}\")\n",
    "    print(f\"Failed: {failed}\")\n",
    "    \n",
    "    return successful, failed\n",
    "\n",
    "# Run master download\n",
    "successful, failed = master_download()"
   ]
  }
 ],
 "metadata": {
  "kernelspec": {
   "display_name": "Python 3",
   "language": "python",
   "name": "python3"
  },
  "language_info": {
   "codemirror_mode": {
    "name": "ipython",
    "version": 3
   },
   "file_extension": ".py",
   "mimetype": "text/x-python",
   "name": "python",
   "nbconvert_exporter": "python",
   "pygments_lexer": "ipython3",
   "version": "3.8.10"
  }
 },
 "nbformat": 4,
 "nbformat_minor": 4
}
