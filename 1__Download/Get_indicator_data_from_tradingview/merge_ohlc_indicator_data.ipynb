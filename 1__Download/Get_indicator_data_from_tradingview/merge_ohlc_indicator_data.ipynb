{
 "cells": [
  {
   "cell_type": "code",
   "execution_count": null,
   "metadata": {},
   "outputs": [],
   "source": [
    "import pandas as pd\n",
    "\n",
    "# read the CSV file into a DataFrame\n",
    "df1 = pd.read_csv('BTCUSDT_AutoHI_Lo.csv')\n",
    "df1"
   ]
  },
  {
   "cell_type": "code",
   "execution_count": null,
   "metadata": {},
   "outputs": [],
   "source": [
    "# read the CSV file into a DataFrame\n",
    "df2 = pd.read_csv('BTCUSDT_perpetual_1m_24_04.csv')\n",
    "\n",
    "df2['datetime'] = pd.to_datetime(df2['date'] + ' ' + df2['time'])\n",
    "df2.drop(columns=['date', 'time'], inplace=True)\n",
    "# df2['datetime'] = df2['datetime'].dt.tz_localize('UTC').dt.tz_convert('Asia/Kolkata')\n",
    "df2['datetime'] = df2['datetime'].dt.tz_localize(None)\n",
    "df2 = df2[['datetime', 'open', 'high', 'low', 'close', 'volume']]\n",
    "df2\n"
   ]
  },
  {
   "cell_type": "code",
   "execution_count": null,
   "metadata": {},
   "outputs": [],
   "source": [
    "import pandas as pd\n",
    "\n",
    "# Ensure the datetime column is in datetime format\n",
    "df1['datetime'] = pd.to_datetime(df1['datetime'])\n",
    "df2['datetime'] = pd.to_datetime(df2['datetime'])\n",
    "\n",
    "# Get the count of minute values for each date in df1\n",
    "df1['date'] = df1['datetime'].dt.date\n",
    "minute_counts_df1 = df1.groupby('date').size()\n",
    "\n",
    "# Get the dates that have all minute values (1440 minutes in a day)\n",
    "complete_dates_df1 = minute_counts_df1[minute_counts_df1 == 1440].index\n",
    "\n",
    "# Filter df1 to keep only the rows with complete dates\n",
    "df1 = df1[df1['date'].isin(complete_dates_df1)].drop(columns=['date'])\n",
    "\n",
    "# Get the count of minute values for each date in df2\n",
    "df2['date'] = df2['datetime'].dt.date\n",
    "minute_counts_df2 = df2.groupby('date').size()\n",
    "\n",
    "# Get the dates that have all minute values (1440 minutes in a day)\n",
    "complete_dates_df2 = minute_counts_df2[minute_counts_df2 == 1440].index\n",
    "\n",
    "# Filter df2 to keep only the rows with complete dates\n",
    "df2 = df2[df2['date'].isin(complete_dates_df2)].drop(columns=['date'])\n",
    "\n",
    "df1"
   ]
  },
  {
   "cell_type": "code",
   "execution_count": null,
   "metadata": {},
   "outputs": [],
   "source": [
    "df2"
   ]
  },
  {
   "cell_type": "code",
   "execution_count": null,
   "metadata": {},
   "outputs": [],
   "source": [
    "df1['datetime'] = pd.to_datetime(df1['datetime'])\n",
    "df2 = df2.merge(df1[['datetime', 'rising_', 'falling_', 'c_', 'hi_', 'lo_', 'c1_',\n",
    "       'anchoredHi_', 'anchoredLo_', 'h1_', 'l1_', 'o_', 'doji_',\n",
    "       'breakingHigher_', 'breakingLower_', 'resetHiAnchor_', 'resetLoAnchor_',\n",
    "       'VWAP', 'Anchor_Hi', 'Anchor_Lo', 'anchoredMean']], on='datetime', how='left')\n",
    "df2"
   ]
  },
  {
   "cell_type": "code",
   "execution_count": null,
   "metadata": {},
   "outputs": [],
   "source": [
    "df2.to_csv('df2_saved.csv', index=False)"
   ]
  }
 ],
 "metadata": {
  "kernelspec": {
   "display_name": "Python 3",
   "language": "python",
   "name": "python3"
  },
  "language_info": {
   "codemirror_mode": {
    "name": "ipython",
    "version": 3
   },
   "file_extension": ".py",
   "mimetype": "text/x-python",
   "name": "python",
   "nbconvert_exporter": "python",
   "pygments_lexer": "ipython3",
   "version": "3.8.10"
  }
 },
 "nbformat": 4,
 "nbformat_minor": 2
}
