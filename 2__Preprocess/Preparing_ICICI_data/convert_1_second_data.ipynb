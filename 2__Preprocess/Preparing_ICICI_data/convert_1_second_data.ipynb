{
 "cells": [
  {
   "cell_type": "code",
   "execution_count": null,
   "metadata": {},
   "outputs": [],
   "source": [
    "import os\n",
    "from datetime import datetime, date, timedelta\n",
    "import pandas as pd \n"
   ]
  },
  {
   "cell_type": "code",
   "execution_count": null,
   "metadata": {},
   "outputs": [],
   "source": [
    "folder_path = 'D:/Offline Data/Original Data/Nifty_1_Second_ICICI'\n",
    "csv_files = [f for f in os.listdir(folder_path) if f.endswith('.csv')]\n",
    "sorted_files = sorted(csv_files, key=lambda x: datetime.strptime(x.split('_')[0] + '_' + x.split('_')[1] + '_' + x.split('_')[2], '%Y_%m_%d'))\n",
    "\n",
    "for i in range(0, len(sorted_files)):\n",
    "    print(sorted_files[i])\n",
    "\n",
    "    file_path = os.path.join(folder_path, sorted_files[i])\n",
    "    df = pd.read_csv(file_path)\n",
    "\n",
    "    # ----------------------------------- Only for row file -----------------------------------\n",
    "    \n",
    "    def create_symbol(row):\n",
    "        expiry_date = datetime.strptime(row['expiry_date'], '%d-%b-%Y')\n",
    "        date_str = f\"{expiry_date.day:02d}\"\n",
    "        month_str = expiry_date.strftime('%b').upper()\n",
    "        year_str = str(expiry_date.year)[-2:]\n",
    "        \n",
    "        strike_str = str(int(row['strike_price']))\n",
    "        right_str = 'CE' if row['right'].lower() == 'call' else 'PE'\n",
    "        \n",
    "        return f\"{row['stock_code']}50{date_str}{month_str}{year_str}{strike_str}{right_str}\"\n",
    "\n",
    "    df['symbol'] = df.apply(create_symbol, axis=1)\n",
    "    df = df[['datetime', 'open', 'high', 'low', 'close', 'symbol', 'open_interest', 'volume']]\n",
    "\n",
    "    # -------------------------- convert data into required timeframe -------------------------\n",
    "\n",
    "    df = df.copy()\n",
    "\n",
    "    df['datetime'] = pd.to_datetime(df['datetime'])\n",
    "    df = df.sort_values(['datetime', 'symbol'])\n",
    "\n",
    "    df_5sec = []\n",
    "    for symbol in df['symbol'].unique():\n",
    "        symbol_data = df[df['symbol'] == symbol].set_index('datetime')\n",
    "        resampled = symbol_data.resample('3T').agg({\n",
    "            'open': 'first',\n",
    "            'high': 'max',\n",
    "            'low': 'min',\n",
    "            'close': 'last',\n",
    "            'open_interest': 'last',\n",
    "            'volume': 'sum'\n",
    "        }).dropna()\n",
    "        resampled['symbol'] = symbol\n",
    "        df_5sec.append(resampled)\n",
    "\n",
    "    df_5sec = pd.concat(df_5sec).reset_index()\n",
    "    df = df_5sec[['datetime', 'symbol', 'open', 'high', 'low', 'close', 'open_interest', 'volume']]\n",
    "\n",
    "    save_folder_path = f'D:/Offline Data/Processed Data/Nifty_3_Minute_ICICI'\n",
    "    save_file_path = os.path.join(save_folder_path, sorted_files[i].replace('1second', '3_Minute'))\n",
    "    df.to_csv(save_file_path, index=False)\n"
   ]
  }
 ],
 "metadata": {
  "kernelspec": {
   "display_name": "Python 3",
   "language": "python",
   "name": "python3"
  },
  "language_info": {
   "codemirror_mode": {
    "name": "ipython",
    "version": 3
   },
   "file_extension": ".py",
   "mimetype": "text/x-python",
   "name": "python",
   "nbconvert_exporter": "python",
   "pygments_lexer": "ipython3",
   "version": "3.8.10"
  }
 },
 "nbformat": 4,
 "nbformat_minor": 2
}
