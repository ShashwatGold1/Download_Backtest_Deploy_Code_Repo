{
 "cells": [
  {
   "cell_type": "code",
   "execution_count": null,
   "id": "fa990ecf",
   "metadata": {},
   "outputs": [],
   "source": [
    "# pd.set_option('display.max_rows', None)\n",
    "# pd.set_option('display.max_columns', None)"
   ]
  },
  {
   "cell_type": "code",
   "execution_count": null,
   "id": "fc0d8bd2",
   "metadata": {},
   "outputs": [],
   "source": [
    "import os\n",
    "from datetime import datetime, date, timedelta\n",
    "import pandas as pd \n",
    "import numpy as np\n",
    "import functions as f\n",
    "\n",
    "folder_path = 'D:/Offline Data/Processed Data/Nifty_1_Minute_ICICI'\n",
    "csv_files = [f for f in os.listdir(folder_path) if f.endswith('.csv')]\n",
    "sorted_files = sorted(csv_files, key=lambda x: datetime.strptime(x.split('_')[0] + '_' + x.split('_')[1] + '_' + x.split('_')[2], '%Y_%m_%d'))\n",
    "nn = 0\n",
    "\n",
    "for i in range(0, len(sorted_files)):\n",
    "    print(sorted_files[i])\n",
    "\n",
    "    sym_df = pd.DataFrame()\n",
    "\n",
    "    file_path = os.path.join(folder_path, sorted_files[i])\n",
    "    df = pd.read_csv(file_path)\n",
    "\n",
    "    current_date = str(pd.to_datetime(df['datetime'].iloc[0]).date())\n",
    "    is_date_found = f.check_date_in_records(current_date)\n",
    "\n",
    "    if is_date_found == \"date_not_found\":\n",
    "\n",
    "        filter_df = df[(df.open.between(200, 300)) & df.symbol.str.endswith('CE')]\n",
    "        unique_symbols_CE = filter_df['symbol'].unique()\n",
    "\n",
    "        time_range = pd.date_range(start='09:15:00', end='15:30:00', freq='3T').strftime('%H:%M:%S')\n",
    "        symbol_store = None\n",
    "        n = 0\n",
    "\n",
    "        for i in range(len(time_range)):\n",
    "            # print(time_range[i])\n",
    "\n",
    "            df_strike_price = f.add_strike_prices_in_new_column(time_range[i], unique_symbols_CE, df)\n",
    "            CE_strike_df = f.find_nearest_greater(df_strike_price)\n",
    "\n",
    "            sym_df = pd.concat([sym_df, CE_strike_df], ignore_index=True)\n",
    "\n",
    "            if CE_strike_df['symbol'].iloc[0] != symbol_store:\n",
    "                symbol_store = CE_strike_df['symbol'].iloc[0]\n",
    "                n += 1\n",
    "                nn += 1\n",
    "\n",
    "            # ----------------------------------------\n",
    "\n",
    "        print(f'Symbol chaged: {n} times')\n",
    "\n",
    "        current_date = str(pd.to_datetime(df['datetime'].iloc[0]).date())\n",
    "        file_name = f'{current_date}.csv'\n",
    "        output_path = os.path.join('D:\\Offline Data\\Processed Data\\Get_symbol', file_name)\n",
    "        sym_df.to_csv(output_path, index=False)\n",
    "\n",
    "        f.update_date_records(current_date, str(datetime.now().date()))\n",
    "\n",
    "print(f'Average symbol change: {nn/len(sorted_files)} times')"
   ]
  },
  {
   "cell_type": "code",
   "execution_count": null,
   "id": "2d7bd686",
   "metadata": {},
   "outputs": [],
   "source": [
    "sym_df"
   ]
  }
 ],
 "metadata": {
  "kernelspec": {
   "display_name": "Python 3",
   "language": "python",
   "name": "python3"
  },
  "language_info": {
   "codemirror_mode": {
    "name": "ipython",
    "version": 3
   },
   "file_extension": ".py",
   "mimetype": "text/x-python",
   "name": "python",
   "nbconvert_exporter": "python",
   "pygments_lexer": "ipython3",
   "version": "3.8.10"
  }
 },
 "nbformat": 4,
 "nbformat_minor": 5
}
