{
 "cells": [
  {
   "cell_type": "code",
   "execution_count": null,
   "metadata": {},
   "outputs": [],
   "source": [
    "import backtesting_____boaf_____ as boaf\n",
    "import pandas as pd\n",
    "import numpy as np\n",
    "import itertools"
   ]
  },
  {
   "cell_type": "code",
   "execution_count": null,
   "metadata": {},
   "outputs": [],
   "source": [
    "combinations_df = pd.DataFrame(columns=['total_profit', 'total_trades', 'avg_gain_per_trade', 'avg_bar_per_trade', 'percent_profitable', 'profit_factor', 'max_drawdown'])\n",
    "\n",
    "def generate_combinations(ranges):\n",
    "\n",
    "    all_ranges = [[round(i, rnd) for i in np.arange(start, stop+step, step)] for start, stop, step, rnd in ranges]\n",
    "    combinations = list(itertools.product(*all_ranges))\n",
    "\n",
    "    return combinations\n",
    "\n",
    "# start 0 to 10, step 1, after point value 0\n",
    "ranges = [(2, 3.1, 0.5, 2)]\n",
    "combinations = generate_combinations(ranges)\n",
    "print(len(combinations))\n",
    "print(combinations)\n",
    "n = 0\n",
    "for combi in combinations:\n",
    "    n += 1\n",
    "    print(n)\n",
    "\n",
    "    # calcu_lower, is_std, entry_plus\n",
    "    aa = float(combi[0])\n",
    "\n",
    "    tp, tt, agpt, abpt, pp, pf, md = boaf.combinations_backtesting_option(aa)\n",
    "\n",
    "    inter_combi = pd.DataFrame({'total_profit': [tp], 'total_trades': [tt], 'avg_gain_per_trade': [agpt], 'avg_bar_per_trade': [abpt], 'percent_profitable': [pp], 'profit_factor': [pf], 'max_drawdown': [md]})\n",
    "    combinations_df = pd.concat([combinations_df, inter_combi], ignore_index=True)\n"
   ]
  },
  {
   "cell_type": "code",
   "execution_count": null,
   "metadata": {},
   "outputs": [],
   "source": [
    "combinations_df_sorted = combinations_df.sort_values(by='max_drawdown', ascending=False)\n",
    "combinations_df_sorted"
   ]
  }
 ],
 "metadata": {
  "kernelspec": {
   "display_name": "Python 3",
   "language": "python",
   "name": "python3"
  },
  "language_info": {
   "codemirror_mode": {
    "name": "ipython",
    "version": 3
   },
   "file_extension": ".py",
   "mimetype": "text/x-python",
   "name": "python",
   "nbconvert_exporter": "python",
   "pygments_lexer": "ipython3",
   "version": "3.8.10"
  }
 },
 "nbformat": 4,
 "nbformat_minor": 2
}
