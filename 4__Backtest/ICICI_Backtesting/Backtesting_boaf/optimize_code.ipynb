{
 "cells": [
  {
   "cell_type": "code",
   "execution_count": null,
   "id": "325d98d7",
   "metadata": {},
   "outputs": [],
   "source": [
    "import cProfile\n",
    "import os\n",
    "import pandas as pd\n",
    "import numpy as np\n",
    "from datetime import datetime, timedelta\n",
    "from bisect import bisect_right\n",
    "import functions as f\n",
    "import pstats\n",
    "import io\n",
    "\n",
    "def main():\n",
    "\n",
    "# write code here which you want to optimize\n",
    "# --------------------------------------------------\n",
    "\n",
    "\n",
    "# --------------------------------------------------\n",
    "\n",
    "def profile_main():\n",
    "    pr = cProfile.Profile()\n",
    "    pr.enable()\n",
    "\n",
    "    main()\n",
    "\n",
    "    pr.disable()\n",
    "\n",
    "    # Save the full profile to a file\n",
    "    pr.dump_stats('backtest_profile.txt')\n",
    "\n",
    "    # Also print top 50 functions by cumulative time\n",
    "    s = io.StringIO()\n",
    "    ps = pstats.Stats(pr, stream=s).sort_stats('cumulative')\n",
    "    ps.print_stats(50)\n",
    "    print(s.getvalue())\n",
    "\n",
    "if __name__ == \"__main__\":\n",
    "    profile_main()\n"
   ]
  }
 ],
 "metadata": {
  "kernelspec": {
   "display_name": "Python 3",
   "language": "python",
   "name": "python3"
  },
  "language_info": {
   "codemirror_mode": {
    "name": "ipython",
    "version": 3
   },
   "file_extension": ".py",
   "mimetype": "text/x-python",
   "name": "python",
   "nbconvert_exporter": "python",
   "pygments_lexer": "ipython3",
   "version": "3.8.10"
  }
 },
 "nbformat": 4,
 "nbformat_minor": 5
}
