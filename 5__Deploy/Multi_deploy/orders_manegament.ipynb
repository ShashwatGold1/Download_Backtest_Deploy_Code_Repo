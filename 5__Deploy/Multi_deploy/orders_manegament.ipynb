{
 "cells": [
  {
   "cell_type": "code",
   "execution_count": null,
   "id": "eed5e8dd",
   "metadata": {},
   "outputs": [],
   "source": [
    "import nest_asyncio\n",
    "import ast\n",
    "from dhanhq import dhanhq, DhanContext, MarketFeed\n",
    "import functions as f\n",
    "import pandas as pd\n",
    "import numpy as np\n",
    "from config import MYPATHS\n"
   ]
  },
  {
   "cell_type": "code",
   "execution_count": null,
   "id": "fa6ebc5a",
   "metadata": {},
   "outputs": [],
   "source": [
    "database_path = MYPATHS['data'] + \"\\\\database.txt\"\n",
    "client_id = str(ast.literal_eval(f.get_line(database_path, 3).strip())['client_id'])\n",
    "access_token = str(ast.literal_eval(f.get_line(database_path, 4).strip())['access_token'])\n",
    "\n",
    "# Correct v2.1.0 initialization\n",
    "dhan_context = DhanContext(client_id, access_token)\n",
    "dhan = dhanhq(dhan_context)\n"
   ]
  },
  {
   "cell_type": "code",
   "execution_count": null,
   "id": "b448612e",
   "metadata": {},
   "outputs": [],
   "source": [
    "def place_nifty_bracket_order(quantity=50, entry_price=100.0, target_price=120.0, stoploss_price=90.0):\n",
    "    \"\"\"\n",
    "    Place a Bracket order for NIFTY options\n",
    "    \n",
    "    Args:\n",
    "        quantity: Number of lots/shares to trade\n",
    "        entry_price: Entry price for the order\n",
    "        target_price: Target price (absolute price, not points)\n",
    "        stoploss_price: Stop loss price (absolute price, not points)\n",
    "    \"\"\"\n",
    "\n",
    "    # Method 2: Fallback to regular BO if super order fails\n",
    "    try:\n",
    "        print(\"Trying regular bracket order...\")\n",
    "        response = dhan.place_order(\n",
    "            security_id='50990',\n",
    "            exchange_segment=dhan.NSE_FNO,\n",
    "            transaction_type=dhan.BUY,\n",
    "            quantity=quantity,\n",
    "            order_type=dhan.LIMIT,\n",
    "            product_type=dhan.BO,\n",
    "            price=entry_price,\n",
    "            bo_profit_value=target_price - entry_price,\n",
    "            bo_stop_loss_Value=entry_price - stoploss_price,\n",
    "            validity=dhan.DAY,\n",
    "            tag=\"nifty_bracket_001\"\n",
    "        )\n",
    "        \n",
    "        print(\"Bracket Order Response:\", response)\n",
    "        return response\n",
    "        \n",
    "    except Exception as e2:\n",
    "        print(f\"Error placing bracket order: {e2}\")\n",
    "        return None\n",
    "\n",
    "# Example usage\n",
    "if __name__ == \"__main__\":\n",
    "    # Place super order with absolute prices\n",
    "    order_response = place_nifty_bracket_order(\n",
    "        quantity=75,           # 50 shares/lots\n",
    "        entry_price=121.0,     # Entry at ₹100\n",
    "        target_price=130.0,    # Target at ₹120 (absolute price)\n",
    "        stoploss_price=90.0    # Stop loss at ₹90 (absolute price)\n",
    "    )\n",
    "    \n",
    "    # Check order status\n",
    "    if order_response and order_response.get('status') == 'success':\n",
    "        order_id = order_response.get('data', {}).get('orderId')\n",
    "        print(f\"Bracket order placed successfully. Order ID: {order_id}\")\n",
    "    else:\n",
    "        print(\"Failed to place bracket order\")"
   ]
  },
  {
   "cell_type": "code",
   "execution_count": null,
   "id": "45375e64",
   "metadata": {},
   "outputs": [],
   "source": [
    "order_response = {'status': 'success',\n",
    "    'remarks': '',\n",
    "    'data': {'orderId': '92250613413726', 'orderStatus': 'TRANSIT'}}\n",
    "order_response"
   ]
  },
  {
   "cell_type": "code",
   "execution_count": null,
   "id": "98a5ff86",
   "metadata": {},
   "outputs": [],
   "source": []
  }
 ],
 "metadata": {
  "kernelspec": {
   "display_name": "Python 3",
   "language": "python",
   "name": "python3"
  },
  "language_info": {
   "codemirror_mode": {
    "name": "ipython",
    "version": 3
   },
   "file_extension": ".py",
   "mimetype": "text/x-python",
   "name": "python",
   "nbconvert_exporter": "python",
   "pygments_lexer": "ipython3",
   "version": "3.8.10"
  }
 },
 "nbformat": 4,
 "nbformat_minor": 5
}
