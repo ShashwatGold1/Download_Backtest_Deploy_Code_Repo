{
 "cells": [
  {
   "cell_type": "code",
   "execution_count": null,
   "id": "08b20b69",
   "metadata": {},
   "outputs": [],
   "source": [
    "# play_sound\n",
    "# def play_sound(sound, Symbol_error, error_true):\n",
    "\n",
    "#     # Alert_01, Alert_02, Atma_rama_Alarm\n",
    "#     winsound.PlaySound(f\"data/{sound}.wav\", winsound.SND_FILENAME | winsound.SND_ASYNC)\n",
    "#     print(f\"\\033[1;31m{Symbol_error}\\033[0m\")\n",
    "        \n",
    "#     if error_true == \"error\":\n",
    "#         raise Exception(f\"\\033[1;31m{Symbol_error}\\033[0m\")\n",
    "\n",
    "# print(1+1)\n",
    "# play_sound(\"Alert_01\", \"Symbol error\", \"errosadfr\")     # Alert_01, Alert_02, Atma_rama_Alarm"
   ]
  },
  {
   "cell_type": "code",
   "execution_count": null,
   "id": "4207af06",
   "metadata": {},
   "outputs": [],
   "source": [
    "# option chain\n",
    "# import pandas as pd\n",
    "\n",
    "# responce = dhan.option_chain(\n",
    "#     under_security_id=13,                       # Nifty\n",
    "#     under_exchange_segment=\"IDX_I\",\n",
    "#     expiry=\"2025-05-29\"\n",
    "# )\n",
    "# responce\n",
    "\n",
    "# def extract_option_chain_data(response_json):\n",
    "#     oc_data = response_json['data']['data']['oc']\n",
    "#     rows = []\n",
    "\n",
    "#     for strike, data in oc_data.items():\n",
    "#         ce = data.get('ce', {})\n",
    "#         pe = data.get('pe', {})\n",
    "\n",
    "#         row = {\n",
    "#             'strike_price': float(strike),\n",
    "#             'ce_iv': ce.get('implied_volatility', 0),\n",
    "#             'ce_last_price': ce.get('last_price', 0),\n",
    "#             'ce_oi': ce.get('oi', 0),\n",
    "#             'ce_volume': ce.get('volume', 0),\n",
    "#             'pe_iv': pe.get('implied_volatility', 0),\n",
    "#             'pe_last_price': pe.get('last_price', 0),\n",
    "#             'pe_oi': pe.get('oi', 0),\n",
    "#             'pe_volume': pe.get('volume', 0)\n",
    "#         }\n",
    "#         rows.append(row)\n",
    "\n",
    "#     df = pd.DataFrame(rows)\n",
    "#     df.sort_values('strike_price', inplace=True)\n",
    "#     return df\n",
    "# df = extract_option_chain_data(responce)\n",
    "# df"
   ]
  },
  {
   "cell_type": "code",
   "execution_count": null,
   "id": "54e56bb8",
   "metadata": {},
   "outputs": [],
   "source": [
    "# master_list = pd.read_csv(\"https://images.dhan.co/api-data/api-scrip-master.csv\", sep=None, engine='python', on_bad_lines='skip')\n",
    "# master_list.to_csv('data/master_list.csv', index=False)\n",
    "\n",
    "# master_list = pd.read_csv('data/master_list.csv', sep=None, engine='python', on_bad_lines='skip')\n",
    "\n",
    "# master_12 = master_list.copy()\n",
    "# master_12.rename(columns={'SEM_EXCHANGE': 'SEM_EXM_EXCH_ID', 'SEM_SCRIP_CODE': 'SEM_SMST_SECURITY_ID'}, inplace=True)\n",
    "# master_12 = master_12.drop(['SEM_EXCH_INSTRUMENT_TYPE', 'SEM_SERIES'], axis=1)\n",
    "# master_12[[\"symbol1\", \"date1\", \"month1\", \"strike1\", \"CE_PE1\"]] = master_12[\"SEM_CUSTOM_SYMBOL\"].str.split(\" \", n=4, expand=True)\n",
    "# master_12 = master_12[master_12['strike1'].apply(lambda x: str(x).isnumeric())]\n",
    "# master_12['strike1'] = pd.to_numeric(master_12['strike1'])\n",
    "# master_12 = master_12[['SEM_EXM_EXCH_ID', 'SEM_INSTRUMENT_NAME', 'symbol1', 'month1', 'date1', 'strike1', 'SEM_CUSTOM_SYMBOL', 'SEM_SMST_SECURITY_ID', 'CE_PE1']]\n",
    "\n",
    "# master_12 = master_12[\n",
    "#     (master_12.month1 == \"JUN\") &\n",
    "#     (master_12.SEM_INSTRUMENT_NAME == \"OPTIDX\") &\n",
    "#     (master_12.symbol1 == \"NIFTY\")]\n",
    "# master_12"
   ]
  },
  {
   "cell_type": "code",
   "execution_count": null,
   "id": "4178cb6a",
   "metadata": {},
   "outputs": [],
   "source": [
    "import pandas as pd\n",
    "\n",
    "# master_list = pd.read_csv(\"https://images.dhan.co/api-data/api-scrip-master.csv\", sep=None, engine='python', on_bad_lines='skip')\n",
    "# master_list.to_csv('data/master_list.csv', index=False)\n",
    "\n",
    "master_list = pd.read_csv('data/master_list.csv', sep=None, engine='python', on_bad_lines='skip')\n",
    "\n",
    "master_12 = master_list.copy()\n",
    "master_12.rename(columns={'SEM_EXCHANGE': 'SEM_EXM_EXCH_ID', 'SEM_SCRIP_CODE': 'SEM_SMST_SECURITY_ID'}, inplace=True)\n",
    "master_12 = master_12.drop(['SEM_EXCH_INSTRUMENT_TYPE', 'SEM_SERIES'], axis=1)\n",
    "master_12[[\"symbol1\", \"date1\", \"month1\", \"strike1\", \"CE_PE1\"]] = master_12[\"SEM_CUSTOM_SYMBOL\"].str.split(\" \", n=4, expand=True)\n",
    "master_12 = master_12[master_12['strike1'].apply(lambda x: str(x).isnumeric())]\n",
    "master_12['strike1'] = pd.to_numeric(master_12['strike1'])\n",
    "master_12 = master_12[['SEM_EXM_EXCH_ID', 'SEM_INSTRUMENT_NAME', 'symbol1', 'month1', 'date1', 'strike1', 'SEM_CUSTOM_SYMBOL', 'SEM_SMST_SECURITY_ID', 'CE_PE1']]\n",
    "\n",
    "master_12 = master_12[\n",
    "    (master_12.month1 == \"MAY\") &\n",
    "    (master_12.SEM_INSTRUMENT_NAME == \"OPTIDX\") &\n",
    "    (master_12.symbol1 == \"NIFTY\")]\n",
    "master_12"
   ]
  },
  {
   "cell_type": "code",
   "execution_count": null,
   "id": "9bb6c22a",
   "metadata": {},
   "outputs": [],
   "source": [
    "# pd.set_option('display.max_rows', None)\n",
    "# pd.set_option('display.max_columns', None)"
   ]
  }
 ],
 "metadata": {
  "kernelspec": {
   "display_name": "Python 3",
   "language": "python",
   "name": "python3"
  },
  "language_info": {
   "codemirror_mode": {
    "name": "ipython",
    "version": 3
   },
   "file_extension": ".py",
   "mimetype": "text/x-python",
   "name": "python",
   "nbconvert_exporter": "python",
   "pygments_lexer": "ipython3",
   "version": "3.8.10"
  }
 },
 "nbformat": 4,
 "nbformat_minor": 5
}
